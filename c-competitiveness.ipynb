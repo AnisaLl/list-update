{
 "cells": [
  {
   "cell_type": "code",
   "execution_count": null,
   "metadata": {},
   "outputs": [],
   "source": [
    "import re\n",
    "import numpy as np\n",
    "import matplotlib.pyplot as plt"
   ]
  },
  {
   "cell_type": "code",
   "execution_count": null,
   "metadata": {},
   "outputs": [],
   "source": [
    "# There needs to be a folder located in ./ with folder name as declared in results_folder.\n",
    "# Inside this folder there need to be these files:\n",
    "# dataset_name + _results_opt.txt - The file containing the results for opt for each file for each value of d\n",
    "# dataset_name + _lengths.txt - The file containing the length of each file in the dataset\n",
    "# dataset_name + _results_algos.txt - The file containing the results for each algorithm for each value of d\n",
    "results_folder = \"./opt_results/\"\n",
    "dataset_name = \"large\"\n",
    "ds = [1, 2, 3, 4, 5, 6, 10, 20, 50, 100]"
   ]
  },
  {
   "cell_type": "markdown",
   "metadata": {},
   "source": [
    "## Theoretical c-competitiveness"
   ]
  },
  {
   "cell_type": "code",
   "execution_count": null,
   "metadata": {},
   "outputs": [],
   "source": [
    "# This function does not need any input to calculate the values.\n",
    "# It calculates the theoretical c-competitiveness values for algorithms CD, CND, RR and TS\n",
    "# Output is a list (size 4) of lists, each of which has the c-competitiveness values for different\n",
    "# values of d for the respective algorithm\n",
    "def calc_c_competitiveness_theo():    \n",
    "    # Counter Deterministic\n",
    "    ls = [1, 2, 2, 3, 4, 5, 8, 16, 39, 78]\n",
    "    cd_comp = []\n",
    "    for i, d in enumerate(ds):\n",
    "        c = max(3 + 2*ls[i]/d, 2+2*d/ls[i])\n",
    "        cd_comp.append(round(c, 2))\n",
    "        \n",
    "    ls = [2, 5, 7, 10, 12, 15, 25, 51, 128, 256]\n",
    "    cnd_comp = []\n",
    "    for i, d in enumerate(ds):\n",
    "        l = ls[i]\n",
    "        c = max(1 + (l+1)/(2*d), 1 + (2*d + (l+1)/2)/l)\n",
    "        cnd_comp.append(round(c, 2))\n",
    "\n",
    "    ls = [3, 5, 8, 10, 13, 15, 26, 51, 128, 256]\n",
    "    ps1 = [0.451, 0.210, 0.137, 0.101, 0.080, 1/15, 0.04, 0.02, 0.008, 0.004]\n",
    "    psl = [0.0971, 0.16, 0.043, 0.089, 0.035, 1/15, 0.0095, 0.017, 0.005, 0.003]\n",
    "    rr_comp = []\n",
    "    for i, d in enumerate(ds):\n",
    "        l = ls[i]\n",
    "        p1 = ps1[i]\n",
    "        pl = psl[i]\n",
    "        c = max(1 + (((l-1)*l/2)*p1 + l*pl)/d, 1 + p1*(2*d + (l-1)*l/2*p1 + l*pl))\n",
    "        rr_comp.append(round(c, 2))\n",
    "        \n",
    "    \n",
    "    ts_comp = []\n",
    "    ls = [1, 2, 4, 5, 6, 7, 12, 26, 60, 119]\n",
    "    ps = [0.45793, 0.45798, 0.4582, 0.4579, 0.458, 0.45787, 0.38835, 0.5, 0.459, 0.4579]\n",
    "    \n",
    "    for i, d in enumerate(ds):\n",
    "        l = ls[i]\n",
    "        p = ps[i]\n",
    "        c1 = 1 + (1/2 + max(1, 2*p)*(1-p))*l/d\n",
    "        c2 = 1 + 3*p/2 - p*p + 2*p/(l/d)\n",
    "        c3 = (7-3*p)/4 + 1/(l/d)\n",
    "        c4 = (3 - p + p*p)/2 + 2*(1 - 2*p + p*p)/(l/d)\n",
    "        c5 = (3 + p - p*p)/2 + 2*p*p/(l/d)\n",
    "        c6 = 2 - p + (1-p)/(l/d)\n",
    "        c = max(c1, c2, c3, c4, c5, c6)\n",
    "        ts_comp.append(round(c, 2))\n",
    "    \n",
    "    theo_comp = [cd_comp, cnd_comp, rr_comp, ts_comp]\n",
    "    return theo_comp"
   ]
  },
  {
   "cell_type": "markdown",
   "metadata": {},
   "source": [
    "## Experimental c-competitiveness"
   ]
  },
  {
   "cell_type": "code",
   "execution_count": null,
   "metadata": {},
   "outputs": [],
   "source": [
    "# This function calculates the experimental competitiveness ratio \n",
    "# of the online algorithms.\n",
    "# Input: algos_cost: a list (of size 4) of lists containing the cost of each online algorithm\n",
    "#                    for all values of d\n",
    "#        opt_cost: a list containing the cost of the optimal algorithm for all values of d\n",
    "# Output: a list (of size 4) of lists containing the experimental c-competitiveness of\n",
    "#         each of the online algorithms for all values of d\n",
    "def calc_c_competitiveness_exp(algos_cost, opt_cost):\n",
    "    cd_comp_exp = []\n",
    "    cnd_comp_exp = []\n",
    "    rr_comp_exp = []\n",
    "    ts_comp_exp = []\n",
    "    for i, d in enumerate(ds):\n",
    "        cd_comp_exp.append(round(algos_cost[i][0]/opt_cost[i], 2))\n",
    "        cnd_comp_exp.append(round(algos_cost[i][1]/opt_cost[i], 2))\n",
    "        rr_comp_exp.append(round(algos_cost[i][2]/opt_cost[i], 2))\n",
    "        ts_comp_exp.append(round(algos_cost[i][3]/opt_cost[i], 2))\n",
    "        \n",
    "    exp_comp = [cd_comp_exp, cnd_comp_exp, rr_comp_exp, ts_comp_exp]\n",
    "    \n",
    "    return exp_comp"
   ]
  },
  {
   "cell_type": "markdown",
   "metadata": {},
   "source": [
    "## c-competitiveness errors"
   ]
  },
  {
   "cell_type": "code",
   "execution_count": null,
   "metadata": {},
   "outputs": [],
   "source": [
    "# Calculate the relative errors between the theoretical c-competitiveness ratios\n",
    "# and the experimental c-competitiveness.\n",
    "# Input: theo_comp, exp_comp - a list (of size 4) of lists containing the theoretical (experimental)\n",
    "#                              competitiveness ratio for each of the online algorithms for various\n",
    "#                              values of d\n",
    "def calculate_c_errors(theo_comp, exp_comp):\n",
    "    relative_errors = []\n",
    "    for i, theo_comp_i in enumerate(theo_comp):\n",
    "        exp_comp_i = exp_comp[i]\n",
    "        relative_errors.append(np.round((np.array(theo_comp_i) - np.array(exp_comp_i))/np.array(theo_comp_i), 2))\n",
    "    return relative_errors"
   ]
  },
  {
   "cell_type": "markdown",
   "metadata": {},
   "source": [
    "## Calculate cost of opt"
   ]
  },
  {
   "cell_type": "code",
   "execution_count": null,
   "metadata": {},
   "outputs": [],
   "source": [
    "# Reads from a file located in dataset_path and parses and calculates the costs \n",
    "# of the optimal offline algorithm. The file from which it reads has the costs of\n",
    "# all the files of the dataset for all values of d. The values for each of the files\n",
    "# in the corpus are averaged.\n",
    "# Input: dataset_path - the file from which to read the costs\n",
    "#        lengths_path - a file where the lengths of each of the files\n",
    "#                       in the corpus is found.\n",
    "# Output: average_opt_cost - the optimal cost to serve all files in the corpus\n",
    "#                            averaged over all files\n",
    "def calculate_opt_cost(dataset_path, lengths_path):\n",
    "    \n",
    "    #Read the approx opt cost\n",
    "    opt_file = open(dataset_path, 'r').read()\n",
    "    \n",
    "    #Read the lengths of files\n",
    "    lengths = [int(line.rstrip('\\n')) for line in open(lengths_path)]\n",
    "    lengths_sum = sum(lengths)\n",
    "    \n",
    "    all_files_costs = []\n",
    "    for d in ds:\n",
    "        regex = str(d) + \"\\t(\\d*)\"\n",
    "        matchobj = re.findall(regex, opt_file, flags=0)\n",
    "        all_files_costs.append(matchobj)\n",
    "\n",
    "    average_opt_cost = [(sum(np.array(d_opt).astype(np.float)) + lengths_sum)/len(d_opt) for d_opt in all_files_costs]\n",
    "    # To be commented for other datasets rather than Canterbury. \n",
    "#     average_opt_cost[8] = (sum(np.array(all_files_costs[8]).astype(np.float)) + lengths_sum - lengths[7])/len(all_files_costs[8]) \n",
    "#     average_opt_cost[9] = (sum(np.array(all_files_costs[9]).astype(np.float)) + lengths_sum - lengths[7])/len(all_files_costs[9]) \n",
    "    return average_opt_cost"
   ]
  },
  {
   "cell_type": "markdown",
   "metadata": {},
   "source": [
    "## Calculate cost of online algorithms"
   ]
  },
  {
   "cell_type": "code",
   "execution_count": null,
   "metadata": {},
   "outputs": [],
   "source": [
    "# This function calculates the costs of all the online algorithms for the given dataset\n",
    "# Input: dataset_path - the path to the file where the costs of the online algorithms\n",
    "#                       can be found. It should be a 10 x 4 matrix of costs. \n",
    "# Output: costs - a list (of size 4) of lists, each of which contains the cost of the\n",
    "#                 online algorithms for various sizes of d\n",
    "def calculate_algos_cost(dataset_path):\n",
    "    costs = [[float(cost) for cost in line.strip('\\n').split('\\t')] for line in open(dataset_path)]\n",
    "    return costs"
   ]
  },
  {
   "cell_type": "markdown",
   "metadata": {},
   "source": [
    "### Utility plotting function"
   ]
  },
  {
   "cell_type": "code",
   "execution_count": null,
   "metadata": {},
   "outputs": [],
   "source": [
    "# Plots the costs.\n",
    "# Input: all_costs - a list (of size 4) of lists each of which contains the costs\n",
    "#                    of the online algorithms for various values of d\n",
    "#        opt_cost - a list with the costs of the optimal offline algorithm for \n",
    "#                   various values of d\n",
    "def plot_costs(all_costs, opt_cost, path_to_save):\n",
    "    cd_cost = [item[0] for item in all_costs]\n",
    "    cnd_cost = [item[1] for item in all_costs]\n",
    "    rr_cost = [item[2] for item in all_costs]\n",
    "    ts_cost = [item[3] for item in all_costs]\n",
    "    \n",
    "    ind = np.arange(len(cd_cost))  # the x locations for the groups\n",
    "    width = 0.15  # the width of the bars\n",
    "\n",
    "    fig, ax = plt.subplots(nrows=1, ncols=1)\n",
    "    \n",
    "    # plt.subplot(1, 2, 1)\n",
    "#     rects1 = ax.bar(ind - 3*width/2, cd_cost, width, label='CD', color = 'black')\n",
    "#     rects2 = ax.bar(ind - width/2, cnd_cost, width, label='CND', color = 'dimgray')\n",
    "#     rects3 = ax.bar(ind + width/2, rr_cost, width, label='RR', color = 'silver')\n",
    "#     rects4 = ax.bar(ind + 3*width/2, ts_cost, width, label='TS', color = 'white', edgecolor='black')\n",
    "#     rects5 = ax.bar(ind + 5*width/2, opt_cost, width, label='OPT', color = 'white', edgecolor='black', hatch='/')\n",
    "    rects1 = ax.bar(ind - 3*width/2, cd_cost, width, label='CD')\n",
    "    rects2 = ax.bar(ind - width/2, cnd_cost, width, label='CND')\n",
    "    rects3 = ax.bar(ind + width/2, rr_cost, width, label='RR')\n",
    "    rects4 = ax.bar(ind + 3*width/2, ts_cost, width, label='TS')\n",
    "    rects5 = ax.bar(ind + 5*width/2, opt_cost, width, label='OPT')\n",
    "    ax.legend(loc='upper left', bbox_to_anchor=(1,1))\n",
    "\n",
    "    ax.set_xticks(ind)\n",
    "    ax.set_xticklabels((\"1\", \"2\", \"3\", \"4\", \"5\", \"6\", \"10\", \"20\", \"50\", \"100\"))\n",
    "    ax.set_xlabel(\"d\")\n",
    "    ax.set_ylabel(\"Total cost\")\n",
    "\n",
    "    fig.tight_layout()\n",
    "    fig.subplots_adjust(top=0.83)\n",
    "    plt.savefig(path_to_save)\n",
    "    plt.show()"
   ]
  },
  {
   "cell_type": "code",
   "execution_count": null,
   "metadata": {},
   "outputs": [],
   "source": [
    "opt_results_path = results_folder + dataset_name + \"_results_opt.txt\"\n",
    "lengths_path = results_folder + dataset_name + \"_lengths.txt\"\n",
    "algos_results_path = results_folder + dataset_name + \"_results_algos.txt\"\n",
    "\n",
    "opt_cost = calculate_opt_cost(opt_results_path, lengths_path)\n",
    "algos_cost = calculate_algos_cost(algos_results_path)"
   ]
  },
  {
   "cell_type": "code",
   "execution_count": null,
   "metadata": {},
   "outputs": [],
   "source": [
    "save_path = results_folder + dataset_name + \"_costs_plot.png\"\n",
    "plot_costs(algos_cost, opt_cost, save_path)"
   ]
  },
  {
   "cell_type": "code",
   "execution_count": null,
   "metadata": {},
   "outputs": [],
   "source": [
    "exp_comp = calc_c_competitiveness_exp(algos_cost, opt_cost)\n",
    "theo_comp = calc_c_competitiveness_theo()\n",
    "relative_errors = calculate_c_errors(theo_comp, exp_comp)"
   ]
  },
  {
   "cell_type": "code",
   "execution_count": null,
   "metadata": {
    "scrolled": false
   },
   "outputs": [],
   "source": [
    "for i, d in enumerate(ds):\n",
    "    print(d, \"&\", theo_comp[0][i], '&', exp_comp[0][i], '&', round(relative_errors[0][i], 2), \"\\n\",\n",
    "             \"&\", theo_comp[1][i], '&', exp_comp[1][i], '&', round(relative_errors[1][i], 2), \"\\n\"\n",
    "             \"&\", theo_comp[2][i], '&', exp_comp[2][i], '&', round(relative_errors[2][i], 2), \"\\n\"\n",
    "             \"&\", theo_comp[3][i], '&', exp_comp[3][i], '&', round(relative_errors[3][i], 2), \"\\\\\\ \\hline\", \"\\n\")"
   ]
  }
 ],
 "metadata": {
  "kernelspec": {
   "display_name": "Python 3.6",
   "language": "python",
   "name": "python3.6"
  },
  "language_info": {
   "codemirror_mode": {
    "name": "ipython",
    "version": 3
   },
   "file_extension": ".py",
   "mimetype": "text/x-python",
   "name": "python",
   "nbconvert_exporter": "python",
   "pygments_lexer": "ipython3",
   "version": "3.6.6"
  }
 },
 "nbformat": 4,
 "nbformat_minor": 2
}
